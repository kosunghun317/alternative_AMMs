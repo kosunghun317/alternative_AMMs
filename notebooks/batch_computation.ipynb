{
 "cells": [
  {
   "cell_type": "code",
   "execution_count": 1,
   "metadata": {},
   "outputs": [],
   "source": [
    "from sympy import init_printing\n",
    "from sympy import symbols\n",
    "from sympy.matrices import Matrix\n",
    "\n",
    "init_printing(use_unicode=True)"
   ]
  },
  {
   "cell_type": "code",
   "execution_count": 2,
   "metadata": {},
   "outputs": [],
   "source": [
    "x_0, y_0, x_in, y_in, x_mint, y_mint = symbols(\"x_0, y_0, x_in, y_in, x_mint, y_mint\")"
   ]
  },
  {
   "cell_type": "code",
   "execution_count": 3,
   "metadata": {},
   "outputs": [],
   "source": [
    "A = Matrix([\n",
    "    [2 * x_0 + 2 * x_mint, 2 * x_mint],\n",
    "    [2 * x_in, x_0 + 2 * x_in]\n",
    "])\n",
    "v = Matrix([\n",
    "    x_0 * y_mint - x_mint * y_0,\n",
    "    x_0 * y_in - x_in * y_0\n",
    "])"
   ]
  },
  {
   "cell_type": "code",
   "execution_count": 4,
   "metadata": {},
   "outputs": [],
   "source": [
    "[a, b] = A.solve(v)"
   ]
  },
  {
   "cell_type": "code",
   "execution_count": 5,
   "metadata": {},
   "outputs": [
    {
     "data": {
      "image/png": "[encoded data removed]",
      "text/latex": [
       "$\\displaystyle \\left[\\begin{matrix}2 x_{0} + 2 x_{mint} & 2 x_{mint}\\\\2 x_{in} & x_{0} + 2 x_{in}\\end{matrix}\\right]$"
      ],
      "text/plain": [
       "⎡2⋅x₀ + 2⋅xₘᵢₙₜ   2⋅xₘᵢₙₜ  ⎤\n",
       "⎢                          ⎥\n",
       "⎣    2⋅xᵢₙ       x₀ + 2⋅xᵢₙ⎦"
      ]
     },
     "execution_count": 5,
     "metadata": {},
     "output_type": "execute_result"
    }
   ],
   "source": [
    "A"
   ]
  },
  {
   "cell_type": "code",
   "execution_count": 6,
   "metadata": {},
   "outputs": [
    {
     "data": {
      "image/png": "[encoded data removed]",
      "text/latex": [
       "$\\displaystyle \\left[\\begin{matrix}x_{0} y_{mint} - x_{mint} y_{0}\\\\x_{0} y_{in} - x_{in} y_{0}\\end{matrix}\\right]$"
      ],
      "text/plain": [
       "⎡x₀⋅yₘᵢₙₜ - xₘᵢₙₜ⋅y₀⎤\n",
       "⎢                   ⎥\n",
       "⎣  x₀⋅yᵢₙ - xᵢₙ⋅y₀  ⎦"
      ]
     },
     "execution_count": 6,
     "metadata": {},
     "output_type": "execute_result"
    }
   ],
   "source": [
    "v"
   ]
  },
  {
   "cell_type": "code",
   "execution_count": 7,
   "metadata": {},
   "outputs": [
    {
     "data": {
      "image/png": "[encoded data removed]",
      "text/latex": [
       "$\\displaystyle \\frac{x_{0} y_{mint} + 2 x_{in} y_{mint} - x_{mint} y_{0} - 2 x_{mint} y_{in}}{2 x_{0} + 4 x_{in} + 2 x_{mint}}$"
      ],
      "text/plain": [
       "x₀⋅yₘᵢₙₜ + 2⋅xᵢₙ⋅yₘᵢₙₜ - xₘᵢₙₜ⋅y₀ - 2⋅xₘᵢₙₜ⋅yᵢₙ\n",
       "───────────────────────────────────────────────\n",
       "             2⋅x₀ + 4⋅xᵢₙ + 2⋅xₘᵢₙₜ            "
      ]
     },
     "execution_count": 7,
     "metadata": {},
     "output_type": "execute_result"
    }
   ],
   "source": [
    "a"
   ]
  },
  {
   "cell_type": "code",
   "execution_count": 8,
   "metadata": {},
   "outputs": [
    {
     "data": {
      "image/png": "[encoded data removed]",
      "text/latex": [
       "$\\displaystyle \\frac{x_{0} y_{in} - x_{in} y_{0} - x_{in} y_{mint} + x_{mint} y_{in}}{x_{0} + 2 x_{in} + x_{mint}}$"
      ],
      "text/plain": [
       "x₀⋅yᵢₙ - xᵢₙ⋅y₀ - xᵢₙ⋅yₘᵢₙₜ + xₘᵢₙₜ⋅yᵢₙ\n",
       "───────────────────────────────────────\n",
       "           x₀ + 2⋅xᵢₙ + xₘᵢₙₜ          "
      ]
     },
     "execution_count": 8,
     "metadata": {},
     "output_type": "execute_result"
    }
   ],
   "source": [
    "b"
   ]
  },
  {
   "cell_type": "code",
   "execution_count": 9,
   "metadata": {},
   "outputs": [],
   "source": [
    "x_1, y_1 = symbols(\"x_1, y_1\")"
   ]
  },
  {
   "cell_type": "code",
   "execution_count": 10,
   "metadata": {},
   "outputs": [],
   "source": [
    "[x_1, y_1] = Matrix([\n",
    "    x_0 * (y_0 + a + b) / (y_0 + 2 * (a + b)),\n",
    "    y_0 + a + b\n",
    "])"
   ]
  },
  {
   "cell_type": "code",
   "execution_count": 11,
   "metadata": {},
   "outputs": [],
   "source": [
    "import sympy as sp"
   ]
  },
  {
   "cell_type": "code",
   "execution_count": 12,
   "metadata": {},
   "outputs": [
    {
     "data": {
      "image/png": "[encoded data removed]",
      "text/latex": [
       "$\\displaystyle \\frac{x_{0} y_{0} + x_{0} y_{in} + \\frac{x_{0} y_{mint}}{2} + x_{in} y_{0} + \\frac{x_{mint} y_{0}}{2}}{y_{0} + 2 y_{in} + y_{mint}}$"
      ],
      "text/plain": [
       "                 x₀⋅yₘᵢₙₜ            xₘᵢₙₜ⋅y₀\n",
       "x₀⋅y₀ + x₀⋅yᵢₙ + ──────── + xᵢₙ⋅y₀ + ────────\n",
       "                    2                   2    \n",
       "─────────────────────────────────────────────\n",
       "              y₀ + 2⋅yᵢₙ + yₘᵢₙₜ             "
      ]
     },
     "execution_count": 12,
     "metadata": {},
     "output_type": "execute_result"
    }
   ],
   "source": [
    "sp.simplify(x_1)"
   ]
  },
  {
   "cell_type": "code",
   "execution_count": 13,
   "metadata": {},
   "outputs": [
    {
     "data": {
      "image/png": "[encoded data removed]",
      "text/latex": [
       "$\\displaystyle \\frac{x_{0} y_{0} + x_{0} y_{in} + \\frac{x_{0} y_{mint}}{2} + x_{in} y_{0} + \\frac{x_{mint} y_{0}}{2}}{x_{0} + 2 x_{in} + x_{mint}}$"
      ],
      "text/plain": [
       "                 x₀⋅yₘᵢₙₜ            xₘᵢₙₜ⋅y₀\n",
       "x₀⋅y₀ + x₀⋅yᵢₙ + ──────── + xᵢₙ⋅y₀ + ────────\n",
       "                    2                   2    \n",
       "─────────────────────────────────────────────\n",
       "              x₀ + 2⋅xᵢₙ + xₘᵢₙₜ             "
      ]
     },
     "execution_count": 13,
     "metadata": {},
     "output_type": "execute_result"
    }
   ],
   "source": [
    "sp.simplify(y_1)"
   ]
  },
  {
   "cell_type": "code",
   "execution_count": 14,
   "metadata": {},
   "outputs": [],
   "source": [
    "p = y_1 / x_1"
   ]
  },
  {
   "cell_type": "code",
   "execution_count": 15,
   "metadata": {},
   "outputs": [
    {
     "data": {
      "image/png": "[encoded data removed]",
      "text/latex": [
       "$\\displaystyle \\frac{y_{0} + 2 y_{in} + y_{mint}}{x_{0} + 2 x_{in} + x_{mint}}$"
      ],
      "text/plain": [
       "y₀ + 2⋅yᵢₙ + yₘᵢₙₜ\n",
       "──────────────────\n",
       "x₀ + 2⋅xᵢₙ + xₘᵢₙₜ"
      ]
     },
     "execution_count": 15,
     "metadata": {},
     "output_type": "execute_result"
    }
   ],
   "source": [
    "sp.simplify(p)"
   ]
  },
  {
   "cell_type": "code",
   "execution_count": 16,
   "metadata": {},
   "outputs": [
    {
     "data": {
      "image/png": "[encoded data removed]",
      "text/latex": [
       "$\\displaystyle \\left[\\begin{matrix}x_{mint}\\\\y_{mint}\\end{matrix}\\right]$"
      ],
      "text/plain": [
       "⎡xₘᵢₙₜ⎤\n",
       "⎢     ⎥\n",
       "⎣yₘᵢₙₜ⎦"
      ]
     },
     "execution_count": 16,
     "metadata": {},
     "output_type": "execute_result"
    }
   ],
   "source": [
    "sp.simplify(\n",
    "        x_mint * Matrix([\n",
    "        1, p\n",
    "    ]) + Matrix([\n",
    "        0, 2 * a\n",
    "    ])\n",
    ")"
   ]
  },
  {
   "cell_type": "code",
   "execution_count": 17,
   "metadata": {},
   "outputs": [
    {
     "data": {
      "image/png": "[encoded data removed]",
      "text/latex": [
       "$\\displaystyle \\left[\\begin{matrix}\\frac{\\frac{x_{0} y_{mint}}{2} + x_{in} y_{mint} + \\frac{x_{mint} y_{0}}{2} + x_{mint} y_{in} + x_{mint} y_{mint}}{y_{0} + 2 y_{in} + y_{mint}}\\\\\\frac{\\frac{x_{0} y_{mint}}{2} + x_{in} y_{mint} + \\frac{x_{mint} y_{0}}{2} + x_{mint} y_{in} + x_{mint} y_{mint}}{x_{0} + 2 x_{in} + x_{mint}}\\end{matrix}\\right]$"
      ],
      "text/plain": [
       "⎡x₀⋅yₘᵢₙₜ               xₘᵢₙₜ⋅y₀                          ⎤\n",
       "⎢──────── + xᵢₙ⋅yₘᵢₙₜ + ──────── + xₘᵢₙₜ⋅yᵢₙ + xₘᵢₙₜ⋅yₘᵢₙₜ⎥\n",
       "⎢   2                      2                              ⎥\n",
       "⎢─────────────────────────────────────────────────────────⎥\n",
       "⎢                    y₀ + 2⋅yᵢₙ + yₘᵢₙₜ                   ⎥\n",
       "⎢                                                         ⎥\n",
       "⎢x₀⋅yₘᵢₙₜ               xₘᵢₙₜ⋅y₀                          ⎥\n",
       "⎢──────── + xᵢₙ⋅yₘᵢₙₜ + ──────── + xₘᵢₙₜ⋅yᵢₙ + xₘᵢₙₜ⋅yₘᵢₙₜ⎥\n",
       "⎢   2                      2                              ⎥\n",
       "⎢─────────────────────────────────────────────────────────⎥\n",
       "⎣                    x₀ + 2⋅xᵢₙ + xₘᵢₙₜ                   ⎦"
      ]
     },
     "execution_count": 17,
     "metadata": {},
     "output_type": "execute_result"
    }
   ],
   "source": [
    "sp.simplify(\n",
    "    (x_mint + a / p) * Matrix([1, p])\n",
    ")"
   ]
  }
 ],
 "metadata": {
  "kernelspec": {
   "display_name": ".venv",
   "language": "python",
   "name": "python3"
  },
  "language_info": {
   "codemirror_mode": {
    "name": "ipython",
    "version": 3
   },
   "file_extension": ".py",
   "mimetype": "text/x-python",
   "name": "python",
   "nbconvert_exporter": "python",
   "pygments_lexer": "ipython3",
   "version": "3.11.5"
  }
 },
 "nbformat": 4,
 "nbformat_minor": 2
}
