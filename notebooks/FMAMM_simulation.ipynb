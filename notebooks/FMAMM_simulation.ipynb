{
 "cells": [
  {
   "cell_type": "code",
   "execution_count": 10,
   "metadata": {},
   "outputs": [],
   "source": [
    "import numpy as np"
   ]
  },
  {
   "cell_type": "code",
   "execution_count": 11,
   "metadata": {},
   "outputs": [],
   "source": [
    "L = [10**2]\n",
    "P_amm = [10**4]\n",
    "P = P_amm[0] * 2"
   ]
  },
  {
   "cell_type": "code",
   "execution_count": 12,
   "metadata": {},
   "outputs": [],
   "source": [
    "def arithmetic_mean(a, b):\n",
    "    return (a + b) / 2\n",
    "\n",
    "\n",
    "def geometric_mean(a, b):\n",
    "    return np.sqrt(a * b)"
   ]
  },
  {
   "cell_type": "code",
   "execution_count": 13,
   "metadata": {},
   "outputs": [],
   "source": [
    "\"\"\"\n",
    "swap once per block, only one arbitrageur (= no competition).\n",
    "arbitrageur does not report the true price, but the price that maximizes his profit.\n",
    "which is, sqrt(P_amm * P_true)\n",
    "\"\"\"\n",
    "for _ in range(20):\n",
    "    L.append(\n",
    "        L[-1]\n",
    "        * arithmetic_mean(np.sqrt(P_amm[-1]), np.sqrt(P))\n",
    "        / geometric_mean(np.sqrt(P_amm[-1]), np.sqrt(P))\n",
    "    )  # L_{n+1} = L_n * AM(sqrt(P_n), sqrt(P)) / GM(sqrt(P_n), sqrt(P))\n",
    "    P_amm.append(geometric_mean(P_amm[-1], P))  # P_{n+1} = GM(P_n, P)"
   ]
  },
  {
   "cell_type": "code",
   "execution_count": 14,
   "metadata": {},
   "outputs": [
    {
     "name": "stdout",
     "output_type": "stream",
     "text": [
      "1.02013944659677\n"
     ]
    }
   ],
   "source": [
    "print(L[-1] / L[0])"
   ]
  },
  {
   "cell_type": "code",
   "execution_count": 15,
   "metadata": {},
   "outputs": [
    {
     "name": "stdout",
     "output_type": "stream",
     "text": [
      "1.9999986779271097\n"
     ]
    }
   ],
   "source": [
    "print(P_amm[-1] / P_amm[0])"
   ]
  },
  {
   "cell_type": "code",
   "execution_count": 16,
   "metadata": {},
   "outputs": [
    {
     "name": "stdout",
     "output_type": "stream",
     "text": [
      "pool value before arbitrageurs: \n",
      "30000.0\n"
     ]
    }
   ],
   "source": [
    "print(\"pool value before arbitrageurs: \")\n",
    "print(L[0] / np.sqrt(P_amm[0]) * P + L[0] * np.sqrt(P_amm[0]))"
   ]
  },
  {
   "cell_type": "code",
   "execution_count": 17,
   "metadata": {},
   "outputs": [
    {
     "name": "stdout",
     "output_type": "stream",
     "text": [
      "FM-AMM pool value after arbitrageurs: \n",
      "28853.90081778029\n"
     ]
    }
   ],
   "source": [
    "print(\"FM-AMM pool value after arbitrageurs: \")\n",
    "print(L[-1] / np.sqrt(P_amm[-1]) * P + L[-1] * np.sqrt(P_amm[-1]))"
   ]
  },
  {
   "cell_type": "code",
   "execution_count": 18,
   "metadata": {},
   "outputs": [
    {
     "name": "stdout",
     "output_type": "stream",
     "text": [
      "CPMM pool value after arbitrageurs: \n",
      "28284.271247461904\n"
     ]
    }
   ],
   "source": [
    "print(\"CPMM pool value after arbitrageurs: \")\n",
    "print(L[0] / np.sqrt(P) * P + L[0] * np.sqrt(P))"
   ]
  }
 ],
 "metadata": {
  "kernelspec": {
   "display_name": ".venv",
   "language": "python",
   "name": "python3"
  },
  "language_info": {
   "codemirror_mode": {
    "name": "ipython",
    "version": 3
   },
   "file_extension": ".py",
   "mimetype": "text/x-python",
   "name": "python",
   "nbconvert_exporter": "python",
   "pygments_lexer": "ipython3",
   "version": "3.10.13"
  }
 },
 "nbformat": 4,
 "nbformat_minor": 2
}
